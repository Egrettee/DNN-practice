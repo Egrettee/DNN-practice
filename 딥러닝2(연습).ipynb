{
  "nbformat": 4,
  "nbformat_minor": 0,
  "metadata": {
    "colab": {
      "name": "딥러닝2(연습).ipynb",
      "provenance": [],
      "collapsed_sections": [],
      "authorship_tag": "ABX9TyN5QGCY2/Jr5nE+0Pj79PqU",
      "include_colab_link": true
    },
    "kernelspec": {
      "name": "python3",
      "display_name": "Python 3"
    },
    "language_info": {
      "name": "python"
    }
  },
  "cells": [
    {
      "cell_type": "markdown",
      "metadata": {
        "id": "view-in-github",
        "colab_type": "text"
      },
      "source": [
        "<a href=\"https://colab.research.google.com/github/moosangt/Git-tutorial/blob/master/%EB%94%A5%EB%9F%AC%EB%8B%9D2(%EC%97%B0%EC%8A%B5).ipynb\" target=\"_parent\"><img src=\"https://colab.research.google.com/assets/colab-badge.svg\" alt=\"Open In Colab\"/></a>"
      ]
    },
    {
      "cell_type": "code",
      "metadata": {
        "id": "Ch1wiXPXlyv3",
        "colab": {
          "base_uri": "https://localhost:8080/"
        },
        "outputId": "867f250b-b40e-44eb-b46b-5647aa05e79d"
      },
      "source": [
        "import tensorflow as tf\n",
        "\n",
        "from tensorflow.keras.layers import Dense\n",
        "\n",
        "N, n_feature = 8,10\n",
        "\n",
        "x = tf.random.normal(shape=(N,n_feature))\n",
        "\n",
        "n_neuron = 3\n",
        "\n",
        "dense = Dense(units=n_neuron, activation='sigmoid')\n",
        "\n",
        "Y = dense(x)\n",
        "\n",
        "W,B = dense.get_weights()\n",
        "print('====== Input/weight/bias=====')\n",
        "print(\"x: \",x.shape)\n",
        "print(\"W: \",W.shape)\n",
        "print(\"B: \",B.shape)\n",
        "print(\"Y: \",Y.shape)"
      ],
      "execution_count": null,
      "outputs": [
        {
          "output_type": "stream",
          "name": "stdout",
          "text": [
            "====== Input/weight/bias=====\n",
            "x:  (8, 10)\n",
            "W:  (10, 3)\n",
            "B:  (3,)\n",
            "Y:  (8, 3)\n"
          ]
        }
      ]
    },
    {
      "cell_type": "code",
      "metadata": {
        "colab": {
          "base_uri": "https://localhost:8080/"
        },
        "id": "x3wc9teyzOVr",
        "outputId": "629b7a5f-a4d5-40a8-e09a-bf2637241588"
      },
      "source": [
        "import tensorflow as tf\n",
        "import numpy as np\n",
        "\n",
        "from tensorflow.math import exp\n",
        "from tensorflow.linalg import matmul\n",
        "\n",
        "from tensorflow.keras.layers import Dense\n",
        "\n",
        "N, n_feature = 4,10\n",
        "\n",
        "X= tf.random.normal(shape=(N,n_feature))\n",
        "\n",
        "n_neuron = 3\n",
        "\n",
        "dense = Dense(units=n_neuron, activation='sigmoid')\n",
        "Y_tf = dense(X)\n",
        "\n",
        "W,B = dense.get_weights()\n",
        "print(\"Y(tensorflow): \\n\",Y_tf.numpy())\n",
        "\n",
        "#calculate with matrix multiplication\n",
        "z = matmul(X,W) +B\n",
        "Y_man_matmul = 1/(1+exp(-z))\n",
        "print(\"Y(with matrix multiplication: \\n\", Y_man_matmul.numpy())\n",
        "\n",
        "#calculate with dot products\n",
        "Y_man_vec = np.zeros(shape=(N,n_neuron))\n",
        "for x_idx in range(N):\n",
        "    x = X[x_idx]\n",
        "\n",
        "    for nu_idx in range(n_neuron):\n",
        "        w,b = W[:,nu_idx], B[nu_idx]\n",
        "\n",
        "        z = tf.reduce_sum(x*w) +b\n",
        "        a = 1/(1+np.exp(-z))\n",
        "        Y_man_vec[x_idx,nu_idx] = a\n",
        "\n",
        "print(\"Y(with dot products): \\n\",Y_man_vec)"
      ],
      "execution_count": null,
      "outputs": [
        {
          "output_type": "stream",
          "name": "stdout",
          "text": [
            "Y(tensorflow): \n",
            " [[0.73726714 0.7835269  0.6664721 ]\n",
            " [0.4813283  0.6863082  0.5744035 ]\n",
            " [0.502727   0.52037406 0.22439602]\n",
            " [0.38578907 0.4847823  0.64159214]]\n",
            "Y(with matrix multiplication: \n",
            " [[0.73726714 0.7835269  0.66647214]\n",
            " [0.48132837 0.6863082  0.5744035 ]\n",
            " [0.502727   0.52037406 0.22439602]\n",
            " [0.38578907 0.48478237 0.6415922 ]]\n",
            "Y(with dot products): \n",
            " [[0.73726716 0.78352686 0.66647207]\n",
            " [0.48132833 0.68630821 0.57440352]\n",
            " [0.50272694 0.52037402 0.22439603]\n",
            " [0.38578907 0.4847823  0.64159221]]\n"
          ]
        }
      ]
    }
  ]
}