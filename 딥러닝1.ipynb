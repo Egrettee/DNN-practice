{
  "nbformat": 4,
  "nbformat_minor": 0,
  "metadata": {
    "colab": {
      "name": "딥러닝1.ipynb",
      "provenance": [],
      "collapsed_sections": [],
      "authorship_tag": "ABX9TyP5kDfZsiM51JQCJssTh3Nh",
      "include_colab_link": true
    },
    "kernelspec": {
      "name": "python3",
      "display_name": "Python 3"
    },
    "language_info": {
      "name": "python"
    }
  },
  "cells": [
    {
      "cell_type": "markdown",
      "metadata": {
        "id": "view-in-github",
        "colab_type": "text"
      },
      "source": [
        "<a href=\"https://colab.research.google.com/github/moosangt/Git-tutorial/blob/master/%EB%94%A5%EB%9F%AC%EB%8B%9D1.ipynb\" target=\"_parent\"><img src=\"https://colab.research.google.com/assets/colab-badge.svg\" alt=\"Open In Colab\"/></a>"
      ]
    },
    {
      "cell_type": "code",
      "metadata": {
        "colab": {
          "base_uri": "https://localhost:8080/"
        },
        "id": "Mt3fcHrvCnda",
        "outputId": "a9149821-b4ba-496e-8595-7afe50bea83a"
      },
      "source": [
        "import tensorflow as tf\n",
        "\n",
        "from tensorflow.keras.layers import Dense\n",
        "\n",
        "x = tf.constant([[10.]])\n",
        "\n",
        "dense = Dense(units=1)\n",
        "\n",
        "Y_tf = dense(x)\n",
        "\n",
        "W, B = dense.get_weights() \n",
        "\n",
        "y_man = tf.linalg.matmul(x,W) +B\n",
        "\n",
        "print(\"=============Input/Weight/Bias ======\")\n",
        "print(\"x: {}\\n{}\\n\".format(x.shape,x.numpy()))\n",
        "print(\"W: {}\\n{}\\n\".format(W.shape,W))\n",
        "print(\"B: {}\\n{}\\n\".format(B.shape,B))\n",
        "\n",
        "print(\"======= Output ======\")\n",
        "print()"
      ],
      "execution_count": null,
      "outputs": [
        {
          "output_type": "stream",
          "name": "stdout",
          "text": [
            "=============Input/Weight/Bias ======\n",
            "x: (1, 1)\n",
            "[[10.]]\n",
            "\n",
            "W: (1, 1)\n",
            "[[-0.40588498]]\n",
            "\n",
            "B: (1,)\n",
            "[0.]\n",
            "\n",
            "======= Output ======\n",
            "\n"
          ]
        }
      ]
    },
    {
      "cell_type": "code",
      "metadata": {
        "colab": {
          "base_uri": "https://localhost:8080/"
        },
        "id": "1Q_S2VO9H-Rp",
        "outputId": "84338df0-0fd3-485a-d79a-8a2988b95e34"
      },
      "source": [
        "import tensorflow as tf\n",
        "\n",
        "from tensorflow.keras.layers import Dense\n",
        "from tensorflow.keras.initializers import Constant\n",
        "\n",
        "x = tf.constant([[10.]])\n",
        "\n",
        "w,b = tf.constant(10.), tf.constant(20.)\n",
        "w_init, b_init = Constant(w), Constant(b)\n",
        "\n",
        "dense = Dense(units=1,\n",
        "              activation = 'linear',\n",
        "              kernel_initializer=w_init,\n",
        "              bias_initializer=b_init)\n",
        "\n",
        "y_tf = dense(x)\n",
        "print(y_tf)\n",
        "\n",
        "W,B = dense.get_weights()\n",
        "print(W,B)\n",
        "\n",
        "print(\"W: {}\\n {}\\n\".format(W.shape, W))\n",
        "print(\"B: {}\\n {}\\n\".format(B.shape, B))"
      ],
      "execution_count": null,
      "outputs": [
        {
          "output_type": "stream",
          "name": "stdout",
          "text": [
            "tf.Tensor([[120.]], shape=(1, 1), dtype=float32)\n",
            "[[10.]] [20.]\n",
            "W: (1, 1)\n",
            " [[10.]]\n",
            "\n",
            "B: (1,)\n",
            " [20.]\n",
            "\n"
          ]
        }
      ]
    },
    {
      "cell_type": "code",
      "metadata": {
        "colab": {
          "base_uri": "https://localhost:8080/"
        },
        "id": "NRLjISWuLX9B",
        "outputId": "5bfe8437-b234-4709-a461-d0df9cd3a27d"
      },
      "source": [
        "import tensorflow as tf\n",
        "\n",
        "from tensorflow.keras.layers import Dense\n",
        "\n",
        "x = tf.random.uniform(shape=(1,10))\n",
        "\n",
        "dense = Dense(units=1)\n",
        "\n",
        "y_tf = dense(x)\n",
        "\n",
        "W,B = dense.get_weights()\n",
        "\n",
        "y_man = tf.linalg.matmul(x,W) +B\n",
        "\n",
        "print(\"=============Input/Weight/Bias ======\")\n",
        "print(\"x: {}\\n{}\\n\".format(x.shape,x.numpy()))\n",
        "print(\"W: {}\\n{}\\n\".format(W.shape,W))\n",
        "print(\"B: {}\\n{}\\n\".format(B.shape,B))\n",
        "\n",
        "print(\"======= Output ======\")\n",
        "print(\"y(tensorflow): {}\\n{}\\n\".format(y_tf.shape,y_tf.numpy()))\n",
        "print(\"y(Matnual): {}\\n{}\\n\".format(y_man.shape,y_man.numpy()))"
      ],
      "execution_count": null,
      "outputs": [
        {
          "output_type": "stream",
          "name": "stdout",
          "text": [
            "=============Input/Weight/Bias ======\n",
            "x: (1, 10)\n",
            "[[0.5881008  0.35380745 0.41927886 0.04938912 0.38531673 0.13941681\n",
            "  0.9649862  0.02895594 0.52298534 0.9120922 ]]\n",
            "\n",
            "W: (10, 1)\n",
            "[[-0.03783458]\n",
            " [-0.31882733]\n",
            " [-0.5191404 ]\n",
            " [ 0.2395972 ]\n",
            " [-0.62982386]\n",
            " [-0.5919173 ]\n",
            " [ 0.07855642]\n",
            " [-0.27444577]\n",
            " [-0.00127167]\n",
            " [-0.70240265]]\n",
            "\n",
            "B: (1,)\n",
            "[0.]\n",
            "\n",
            "======= Output ======\n",
            "y(tensorflow): (1, 1)\n",
            "[[-1.2395521]]\n",
            "\n",
            "y(Matnual): (1, 1)\n",
            "[[-1.2395521]]\n",
            "\n"
          ]
        }
      ]
    },
    {
      "cell_type": "code",
      "metadata": {
        "colab": {
          "base_uri": "https://localhost:8080/"
        },
        "id": "IVclA7Yf51b_",
        "outputId": "740a9e35-636d-4f1c-ba0d-b72a909737c1"
      },
      "source": [
        "import tensorflow as tf\n",
        "\n",
        "from tensorflow.math import exp, maximum\n",
        "from tensorflow.keras.layers import Activation\n",
        "\n",
        "x = tf.random.normal(shape=(1,5))\n",
        "\n",
        "#activation function\n",
        "sigmoid = Activation('sigmoid')\n",
        "tanh = Activation('tanh')\n",
        "relu = Activation('relu')\n",
        "\n",
        "#forward propagation(tensorflow)\n",
        "y_sigmoid_tf = sigmoid(x)\n",
        "y_tanh_tf = tanh(x)\n",
        "y_relu_tf = relu(x)\n",
        "\n",
        "#forward propagation(matmul)\n",
        "\n",
        "y_sigmoid_man = 1/ (1+exp(-x))\n",
        "y_tanh_man = (exp(x) - exp(-x))/(exp(x) + exp(-x))\n",
        "y_relu_man = maximum(x,0)\n",
        "\n",
        "\n",
        "print(\"x: {}\\n{}\".format(x.shape, x.numpy()))\n",
        "\n",
        "print(\"simoid(tensorflow) : {}\\n{}\\n\".format(y_sigmoid_tf.shape, y_sigmoid_tf.numpy()))\n",
        "print(\"simoid(matmul) : {}\\n{}\\n\".format(y_sigmoid_man.shape, y_sigmoid_man.numpy()))\n",
        "\n",
        "print(\"tanh(tensorflow) : {}\\n{}\\n\".format(y_tanh_tf.shape, y_tanh_tf.numpy()))\n",
        "print(\"tanh(matmul) : {}\\n{}\\n\".format(y_tanh_man.shape, y_tanh_man.numpy()))\n",
        "\n",
        "print(\"relu(tensorflow) : {}\\n{}\\n\".format(y_relu_tf.shape, y_relu_tf.numpy()))\n",
        "print(\"relu(matmul) : {}\\n{}\\n\".format(y_relu_man.shape, y_relu_man.numpy()))"
      ],
      "execution_count": null,
      "outputs": [
        {
          "output_type": "stream",
          "name": "stdout",
          "text": [
            "x: (1, 5)\n",
            "[[-1.4278189 -1.5112729 -1.6437404 -0.0502107 -1.6392517]]\n",
            "simoid(tensorflow) : (1, 5)\n",
            "[[0.19343874 0.18075019 0.16195673 0.48744997 0.16256693]]\n",
            "\n",
            "simoid(matmul) : (1, 5)\n",
            "[[0.19343875 0.18075024 0.16195674 0.48744994 0.16256692]]\n",
            "\n",
            "tanh(tensorflow) : (1, 5)\n",
            "[[-0.8912188  -0.9071647  -0.92799366 -0.05016855 -0.92736787]]\n",
            "\n",
            "tanh(matmul) : (1, 5)\n",
            "[[-0.8912187  -0.90716475 -0.9279936  -0.05016853 -0.9273679 ]]\n",
            "\n",
            "relu(tensorflow) : (1, 5)\n",
            "[[0. 0. 0. 0. 0.]]\n",
            "\n",
            "relu(matmul) : (1, 5)\n",
            "[[0. 0. 0. 0. 0.]]\n",
            "\n"
          ]
        }
      ]
    },
    {
      "cell_type": "code",
      "metadata": {
        "colab": {
          "base_uri": "https://localhost:8080/"
        },
        "id": "ohqb7Q3h-yJb",
        "outputId": "aca1e545-2d68-4494-e6e7-cbc37281788f"
      },
      "source": [
        "import tensorflow as tf\n",
        "\n",
        "from tensorflow.math import exp\n",
        "from tensorflow.keras.layers import Dense\n",
        "\n",
        "x = tf.random.normal(shape=(1,5))\n",
        "\n",
        "#imp. artificial neurons\n",
        "\n",
        "dense_sigmoid = Dense(units=1, activation='sigmoid')\n",
        "dense_tanh = Dense(units=1, activation='tanh')\n",
        "dense_relu = Dense(units=1, activation='relu')\n",
        "\n",
        "# forward propagation\n",
        "\n",
        "y_sigmoid = dense_sigmoid(x)\n",
        "y_tanh = dense_tanh(x)\n",
        "y_relu = dense_relu(x)\n",
        "\n",
        "print(\"AN with sigmoid: {}\\n{}\".format(y_sigmoid.shape,y_sigmoid.numpy()))\n",
        "print(\"AN with tanh: {}\\n{}\".format(y_tanh.shape,y_tanh.numpy()))\n",
        "print(\"AN with relu: {}\\n{}\".format(y_relu.shape,y_relu.numpy()))\n",
        "\n",
        "#forward propagation(manual)\n",
        "print(\"\\n=========\\n\")\n",
        "\n",
        "W,B = dense_sigmoid.get_weights()\n",
        "z = tf.linalg.matmul(x,W) +B\n",
        "a = 1/ (1+exp(-z))\n",
        "\n",
        "print(\"Activation value(tensorflow): {}\\n{}\".format(y_sigmoid.shape,y_sigmoid.numpy()))\n",
        "print(\"Activation value(manual): {}\\n{}\".format(a.shape,a.numpy()))"
      ],
      "execution_count": null,
      "outputs": [
        {
          "output_type": "stream",
          "name": "stdout",
          "text": [
            "AN with sigmoid: (1, 1)\n",
            "[[0.5060678]]\n",
            "AN with tanh: (1, 1)\n",
            "[[-0.23054066]]\n",
            "AN with relu: (1, 1)\n",
            "[[0.30051044]]\n",
            "\n",
            "=========\n",
            "\n",
            "Activation value(tensorflow): (1, 1)\n",
            "[[0.5060678]]\n",
            "Activation value(manual): (1, 1)\n",
            "[[0.5060679]]\n"
          ]
        }
      ]
    },
    {
      "cell_type": "code",
      "metadata": {
        "colab": {
          "base_uri": "https://localhost:8080/"
        },
        "id": "Ww-oveW1BThD",
        "outputId": "23e7c708-43d7-487d-8c8f-f0578eb54799"
      },
      "source": [
        "import tensorflow as tf\n",
        "from tensorflow.keras.layers import Dense\n",
        "from tensorflow.math import exp,maximum\n",
        "\n",
        "# activation = 'sigmoid'\n",
        "# activation = 'tanh'\n",
        "activation = 'relu'\n",
        "\n",
        "x  = tf.random.normal(shape=(1,5))\n",
        "\n",
        "dense = Dense(units=1,activation=activation)\n",
        "\n",
        "y_tf = dense(x)\n",
        "\n",
        "W,B = dense.get_weights()\n",
        "\n",
        "y_man = tf.linalg.matmul(x,W) +B\n",
        "if activation =='sigmoid':\n",
        "    y_man = 1/(1+exp(-y_man))\n",
        "elif activation == 'tanh':\n",
        "    y_man = (exp(y_man) - exp(-y_man))/(exp(y_man) + exp(-y_man))\n",
        "elif activation == 'relu':\n",
        "    y_man = maximum(y_man,0)\n",
        "\n",
        "print(\"Actiavation: \", activation)\n",
        "print(\"y_tf: {}\\n{}\\n\".format(y_tf.shape,y_tf.numpy()))\n",
        "print(\"y_man: {}\\n{}\\n\".format(y_man.shape,y_man.numpy()))"
      ],
      "execution_count": null,
      "outputs": [
        {
          "output_type": "stream",
          "name": "stdout",
          "text": [
            "Actiavation:  relu\n",
            "y_tf: (1, 1)\n",
            "[[2.0377703]]\n",
            "\n",
            "y_man: (1, 1)\n",
            "[[2.0377703]]\n",
            "\n"
          ]
        }
      ]
    },
    {
      "cell_type": "code",
      "metadata": {
        "colab": {
          "base_uri": "https://localhost:8080/"
        },
        "id": "YJIe0NUrBT9M",
        "outputId": "3624d06f-1699-4098-cf53-c34fb04efef8"
      },
      "source": [
        "import tensorflow as tf\n",
        "\n",
        "from tensorflow.keras.layers import Dense\n",
        "\n",
        "N, n_features = 16,10 #set input params\n",
        "x = tf.random.normal(shape=(N,n_features)) # generate minibatch\n",
        "\n",
        "\n",
        "dense = Dense(units=1,activation='relu') #an An\n",
        "y = dense(x)\n",
        "\n",
        "W,B = dense.get_weights()\n",
        "\n",
        "print(\"Shape of x: {}\".format(x.shape))\n",
        "print(\"Shape of W: {}\".format(W.shape))\n",
        "print(\"Shape of B: {}\".format(B.shape))"
      ],
      "execution_count": null,
      "outputs": [
        {
          "output_type": "stream",
          "name": "stdout",
          "text": [
            "Shape of x: (16, 10)\n",
            "Shape of W: (10, 1)\n",
            "Shape of B: (1,)\n"
          ]
        }
      ]
    },
    {
      "cell_type": "code",
      "metadata": {
        "colab": {
          "base_uri": "https://localhost:8080/"
        },
        "id": "L1J0L6VpI4Gv",
        "outputId": "847424e8-0039-4422-dc83-ffd449e85abe"
      },
      "source": [
        "import tensorflow as tf\n",
        "\n",
        "from tensorflow.keras.layers import Dense\n",
        "\n",
        "N, n_features = 8,10 #set input params\n",
        "x = tf.random.normal(shape=(N,n_features)) # generate minibatch\n",
        "\n",
        "dense = Dense(units=1,activation='sigmoid') #an An\n",
        "y_tf = dense(x) #forward propagation(Tensorflow)\n",
        "\n",
        "W,B = dense.get_weights()\n",
        "\n",
        "y_man = tf.linalg.matmul(x,W)+B\n",
        "y_man = 1/(1+tf.math.exp(-y_man))\n",
        "\n",
        "print(\"Output(Tensorflow): \\n\",y_tf.numpy())\n",
        "print(\"Output(Manual): \\n\",y_man.numpy())"
      ],
      "execution_count": null,
      "outputs": [
        {
          "output_type": "stream",
          "name": "stdout",
          "text": [
            "Output(Tensorflow): \n",
            " [[0.7156338 ]\n",
            " [0.41357368]\n",
            " [0.6309638 ]\n",
            " [0.11467037]\n",
            " [0.07560831]\n",
            " [0.65223426]\n",
            " [0.26671842]\n",
            " [0.5512584 ]]\n",
            "Output(Manual): \n",
            " [[0.7156338 ]\n",
            " [0.4135737 ]\n",
            " [0.6309638 ]\n",
            " [0.1146704 ]\n",
            " [0.07560832]\n",
            " [0.65223426]\n",
            " [0.2667184 ]\n",
            " [0.5512584 ]]\n"
          ]
        }
      ]
    }
  ]
}